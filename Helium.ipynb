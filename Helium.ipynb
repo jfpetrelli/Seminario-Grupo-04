{
 "cells": [
  {
   "cell_type": "markdown",
   "id": "70b236ec-d330-4f49-aabe-fb2648058ef8",
   "metadata": {
    "tags": []
   },
   "source": [
    "https://github.com/mherrmann/selenium-python-helium"
   ]
  },
  {
   "cell_type": "code",
   "execution_count": 1,
   "id": "9c6c5448-cac7-4703-ba39-4d0154be3eaa",
   "metadata": {},
   "outputs": [
    {
     "name": "stdout",
     "output_type": "stream",
     "text": [
      "Requirement already satisfied: helium in c:\\users\\birch\\appdata\\local\\packages\\pythonsoftwarefoundation.python.3.9_qbz5n2kfra8p0\\localcache\\local-packages\\python39\\site-packages (3.0.8)Note: you may need to restart the kernel to use updated packages.\n",
      "\n",
      "Requirement already satisfied: selenium==3.141.0 in c:\\users\\birch\\appdata\\local\\packages\\pythonsoftwarefoundation.python.3.9_qbz5n2kfra8p0\\localcache\\local-packages\\python39\\site-packages (from helium) (3.141.0)\n",
      "Requirement already satisfied: urllib3 in c:\\users\\birch\\appdata\\local\\packages\\pythonsoftwarefoundation.python.3.9_qbz5n2kfra8p0\\localcache\\local-packages\\python39\\site-packages (from selenium==3.141.0->helium) (1.26.7)\n"
     ]
    }
   ],
   "source": [
    "pip install helium"
   ]
  },
  {
   "cell_type": "code",
   "execution_count": 3,
   "id": "0f6bbec7-6261-4d22-ab18-69944a2b7505",
   "metadata": {},
   "outputs": [],
   "source": [
    "from helium import *"
   ]
  },
  {
   "cell_type": "code",
   "execution_count": 16,
   "id": "e78d6858-3802-48f0-af2c-87d7bfad0303",
   "metadata": {},
   "outputs": [
    {
     "data": {
      "text/plain": [
       "<selenium.webdriver.firefox.webdriver.WebDriver (session=\"fdcb4885-e6f4-4a53-bf14-76e61d72153e\")>"
      ]
     },
     "execution_count": 16,
     "metadata": {},
     "output_type": "execute_result"
    }
   ],
   "source": [
    "start_firefox('google.com')"
   ]
  },
  {
   "cell_type": "code",
   "execution_count": 17,
   "id": "b337bfd1-1614-4506-b611-3e6208938448",
   "metadata": {},
   "outputs": [],
   "source": [
    "write('FRRO SOPORTE YOUTUBE')"
   ]
  },
  {
   "cell_type": "code",
   "execution_count": 18,
   "id": "120ed485-18a3-41cf-b684-976fd944c3df",
   "metadata": {},
   "outputs": [],
   "source": [
    "press(ENTER)"
   ]
  },
  {
   "cell_type": "code",
   "execution_count": 19,
   "id": "820912cb-4307-4498-a6d6-611dce5d63c8",
   "metadata": {},
   "outputs": [],
   "source": [
    "click('Soporte UTN')"
   ]
  },
  {
   "cell_type": "code",
   "execution_count": 22,
   "id": "d6359c55-b68c-4d77-89bb-9a0f76e81aa0",
   "metadata": {},
   "outputs": [],
   "source": [
    "click('ACCEDER')"
   ]
  },
  {
   "cell_type": "code",
   "execution_count": 31,
   "id": "369bb778-020a-4392-9a2c-5b2435f036d9",
   "metadata": {},
   "outputs": [],
   "source": [
    "write('username', into='correo electrónico o teléfono')"
   ]
  },
  {
   "cell_type": "code",
   "execution_count": 32,
   "id": "b83b4b7a-d8b3-47d6-b099-b16d5cd8fc1c",
   "metadata": {},
   "outputs": [],
   "source": [
    "press(ENTER)"
   ]
  },
  {
   "cell_type": "code",
   "execution_count": 33,
   "id": "25b43ba0-d2bf-48ba-8d58-dc2b6406523d",
   "metadata": {},
   "outputs": [],
   "source": [
    "write('password', into='Ingresa tu contraseña')"
   ]
  },
  {
   "cell_type": "code",
   "execution_count": 34,
   "id": "e46f7aef-fd89-43ce-8abd-32580847c6d9",
   "metadata": {},
   "outputs": [],
   "source": [
    "press(ENTER)"
   ]
  },
  {
   "cell_type": "code",
   "execution_count": 35,
   "id": "96882d59-4678-4e50-adf7-b71f2084f04b",
   "metadata": {},
   "outputs": [],
   "source": [
    "click('SUSCRIBIRME')"
   ]
  },
  {
   "cell_type": "code",
   "execution_count": 42,
   "id": "678553ff-f4fe-41aa-b6e3-946030ee831d",
   "metadata": {},
   "outputs": [],
   "source": [
    "click(Button(\"Foto de perfil\"))"
   ]
  },
  {
   "cell_type": "code",
   "execution_count": 43,
   "id": "41c8c004-bb3b-4d24-97ab-cab84eb22064",
   "metadata": {},
   "outputs": [],
   "source": [
    "click(\"Cerrar sesión\")"
   ]
  },
  {
   "cell_type": "code",
   "execution_count": 44,
   "id": "2b156fa8-c2d9-44b9-a3f0-96135c98cc1d",
   "metadata": {},
   "outputs": [],
   "source": [
    "kill_browser()"
   ]
  },
  {
   "cell_type": "code",
   "execution_count": null,
   "id": "3e4199a9-06f4-4949-a28b-b680927a2544",
   "metadata": {},
   "outputs": [],
   "source": []
  }
 ],
 "metadata": {
  "kernelspec": {
   "display_name": "Python 3 (ipykernel)",
   "language": "python",
   "name": "python3"
  },
  "language_info": {
   "codemirror_mode": {
    "name": "ipython",
    "version": 3
   },
   "file_extension": ".py",
   "mimetype": "text/x-python",
   "name": "python",
   "nbconvert_exporter": "python",
   "pygments_lexer": "ipython3",
   "version": "3.9.7"
  }
 },
 "nbformat": 4,
 "nbformat_minor": 5
}
