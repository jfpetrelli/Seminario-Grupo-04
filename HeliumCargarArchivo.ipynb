{
 "cells": [
  {
   "cell_type": "markdown",
   "id": "70b236ec-d330-4f49-aabe-fb2648058ef8",
   "metadata": {
    "tags": []
   },
   "source": [
    "https://github.com/mherrmann/selenium-python-helium"
   ]
  },
  {
   "cell_type": "code",
   "execution_count": 32,
   "id": "9c6c5448-cac7-4703-ba39-4d0154be3eaa",
   "metadata": {},
   "outputs": [
    {
     "name": "stdout",
     "output_type": "stream",
     "text": [
      "Requirement already satisfied: helium in c:\\users\\birch\\appdata\\local\\packages\\pythonsoftwarefoundation.python.3.9_qbz5n2kfra8p0\\localcache\\local-packages\\python39\\site-packages (3.0.8)\n",
      "Requirement already satisfied: selenium==3.141.0 in c:\\users\\birch\\appdata\\local\\packages\\pythonsoftwarefoundation.python.3.9_qbz5n2kfra8p0\\localcache\\local-packages\\python39\\site-packages (from helium) (3.141.0)\n",
      "Requirement already satisfied: urllib3 in c:\\users\\birch\\appdata\\local\\packages\\pythonsoftwarefoundation.python.3.9_qbz5n2kfra8p0\\localcache\\local-packages\\python39\\site-packages (from selenium==3.141.0->helium) (1.26.7)\n",
      "Note: you may need to restart the kernel to use updated packages.\n"
     ]
    }
   ],
   "source": [
    "pip install helium"
   ]
  },
  {
   "cell_type": "code",
   "execution_count": 33,
   "id": "0f6bbec7-6261-4d22-ab18-69944a2b7505",
   "metadata": {},
   "outputs": [],
   "source": [
    "from helium import *\n",
    "from time import sleep"
   ]
  },
  {
   "cell_type": "code",
   "execution_count": 34,
   "id": "9a37e299-b330-4122-a1dd-607024fa0835",
   "metadata": {},
   "outputs": [
    {
     "data": {
      "text/plain": [
       "<selenium.webdriver.firefox.webdriver.WebDriver (session=\"01490023-0015-436a-9fe7-a07fa6759e40\")>"
      ]
     },
     "execution_count": 34,
     "metadata": {},
     "output_type": "execute_result"
    }
   ],
   "source": [
    "start_firefox('127.0.0.1:8000')"
   ]
  },
  {
   "cell_type": "code",
   "execution_count": 35,
   "id": "963d451f-7e24-4cc5-9bac-cfcfbabc0b6d",
   "metadata": {},
   "outputs": [],
   "source": [
    "write('admin', into='Usuario')\n",
    "write('admin', into='Contraseña')"
   ]
  },
  {
   "cell_type": "code",
   "execution_count": 36,
   "id": "08541cf7-9d71-482a-b104-367c9e763250",
   "metadata": {},
   "outputs": [],
   "source": [
    "click(\"Entrar\")"
   ]
  },
  {
   "cell_type": "code",
   "execution_count": 37,
   "id": "91a95db7-2897-4652-aef6-9f4ddb6258ac",
   "metadata": {},
   "outputs": [],
   "source": [
    "driver = get_driver()\n",
    "sleep(2)"
   ]
  },
  {
   "cell_type": "code",
   "execution_count": 38,
   "id": "e836d33c-0493-4f92-b078-2b407d8b934e",
   "metadata": {},
   "outputs": [],
   "source": [
    "botonMenu = driver.find_element_by_id(\"sidebarCollapse\")"
   ]
  },
  {
   "cell_type": "code",
   "execution_count": 39,
   "id": "d3b54f43-5004-4ff4-80ff-bec445b6baee",
   "metadata": {},
   "outputs": [],
   "source": [
    "botonMenu.click()"
   ]
  },
  {
   "cell_type": "code",
   "execution_count": 40,
   "id": "3a576ff7-aa6d-4bad-990f-437c79bdbfda",
   "metadata": {},
   "outputs": [],
   "source": [
    "click(\"Lista Art-Prov\")"
   ]
  },
  {
   "cell_type": "code",
   "execution_count": 41,
   "id": "49ed2626-022d-4af6-94c7-925e38579e22",
   "metadata": {},
   "outputs": [],
   "source": [
    "click(\"Configurar\")"
   ]
  },
  {
   "cell_type": "code",
   "execution_count": 42,
   "id": "7122f377-1fc4-4a5d-9f32-d4863db9daca",
   "metadata": {},
   "outputs": [],
   "source": [
    "from selenium.webdriver.support.ui import Select"
   ]
  },
  {
   "cell_type": "code",
   "execution_count": 43,
   "id": "9b1ce45a-179a-491f-833b-36d0d6b07a7b",
   "metadata": {},
   "outputs": [],
   "source": [
    "tipoArchivo = Select(driver.find_element_by_name('tipo_archivo'))"
   ]
  },
  {
   "cell_type": "code",
   "execution_count": 44,
   "id": "2b75dda6-ba49-4384-b121-ba96cf41787e",
   "metadata": {},
   "outputs": [],
   "source": [
    "tipoArchivo.select_by_visible_text(\"CSV\")"
   ]
  },
  {
   "cell_type": "code",
   "execution_count": 45,
   "id": "6aa99c0d-4405-47c0-ba64-971770a7497c",
   "metadata": {},
   "outputs": [],
   "source": [
    "delimitador = Select(driver.find_element_by_name('delimitador'))\n",
    "delimitador.select_by_visible_text(\";\")"
   ]
  },
  {
   "cell_type": "code",
   "execution_count": 46,
   "id": "b9b204fd-9f48-4674-9983-ceebcba7f71a",
   "metadata": {},
   "outputs": [],
   "source": [
    "proveedor = Select(driver.find_element_by_name('proveedores'))\n",
    "proveedor.select_by_visible_text(\"Proveedor 3\")"
   ]
  },
  {
   "cell_type": "code",
   "execution_count": 47,
   "id": "3a1a43f9-82c8-4780-86a8-bc2177b19364",
   "metadata": {},
   "outputs": [],
   "source": [
    "\n",
    "#ubicacionArchivo = 'K:\\Ejemplo2'\n",
    "#write(ubicacionArchivo, into='customFile')\n",
    "archivo = driver.find_element_by_id(\"importFile\")\n",
    "archivo.send_keys(\"K:\\Ejemplo2.csv\")"
   ]
  },
  {
   "cell_type": "code",
   "execution_count": 48,
   "id": "b337bfd1-1614-4506-b611-3e6208938448",
   "metadata": {},
   "outputs": [],
   "source": [
    "click(\"Vista Previa\")"
   ]
  },
  {
   "cell_type": "code",
   "execution_count": null,
   "id": "35488258-acd7-448e-9f9d-d3733e64017e",
   "metadata": {},
   "outputs": [],
   "source": []
  },
  {
   "cell_type": "code",
   "execution_count": 49,
   "id": "9d3a8ac9-7939-4866-801c-4b448c7e2a70",
   "metadata": {},
   "outputs": [],
   "source": [
    "#kill_browser()"
   ]
  }
 ],
 "metadata": {
  "kernelspec": {
   "display_name": "Python 3 (ipykernel)",
   "language": "python",
   "name": "python3"
  },
  "language_info": {
   "codemirror_mode": {
    "name": "ipython",
    "version": 3
   },
   "file_extension": ".py",
   "mimetype": "text/x-python",
   "name": "python",
   "nbconvert_exporter": "python",
   "pygments_lexer": "ipython3",
   "version": "3.9.7"
  }
 },
 "nbformat": 4,
 "nbformat_minor": 5
}
